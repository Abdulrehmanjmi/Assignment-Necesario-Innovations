{
 "cells": [
  {
   "cell_type": "code",
   "execution_count": null,
   "id": "5307e55a",
   "metadata": {},
   "outputs": [],
   "source": [
    "# To accomplish this task we first need to build Opencv with CUDA and OpenGL support\n",
    "# My machine is unable to perform this task as it doesnt have GPU\n",
    "# Below is my approch for doing this task \n",
    "# line no 13 or 15 can be drop as its not mentioned \n",
    "# if line 13 and 15 is dropped the imshow func will have gpu_frame instead gpu_Gray"
   ]
  },
  {
   "cell_type": "code",
   "execution_count": null,
   "id": "169a012c",
   "metadata": {},
   "outputs": [],
   "source": [
    "# import dependency\n",
    "import cv2\n",
    "\n",
    "cap = cv2.VideoCapture(0)\n",
    "\n",
    "while(True):\n",
    "    \n",
    "    ret, frame = cap.read()\n",
    "    \n",
    "    #upload frame to GPU \n",
    "    gpu_frame = cv2.cuda_GpuMat()\n",
    "    gpu_frame.upload(frame)\n",
    "    \n",
    "    # resize frame\n",
    "    gpu_frame = cv2.cuda.resize(gpu_frame, (640, 480))\n",
    "    \n",
    "    # convert to gray\n",
    "    gpu_Gray = cv2.cuda.cvtColor(gpu_frame, cv2.COLOR_BGR2GRAY)\n",
    "    \n",
    "    # Create opengl window\n",
    "    cv2.namedWindow(\"Display\", cv2.WINDOW_OPENGL)\n",
    "    \n",
    "    # Directly display from graphics memory\n",
    "    cv2.imshow(\"Display\", gpu_Gray)\n",
    "    if cv2.waitKey(1) & 0xFF == ord('q'):\n",
    "        break"
   ]
  }
 ],
 "metadata": {
  "kernelspec": {
   "display_name": "Python 3 (ipykernel)",
   "language": "python",
   "name": "python3"
  },
  "language_info": {
   "codemirror_mode": {
    "name": "ipython",
    "version": 3
   },
   "file_extension": ".py",
   "mimetype": "text/x-python",
   "name": "python",
   "nbconvert_exporter": "python",
   "pygments_lexer": "ipython3",
   "version": "3.9.7"
  }
 },
 "nbformat": 4,
 "nbformat_minor": 5
}
